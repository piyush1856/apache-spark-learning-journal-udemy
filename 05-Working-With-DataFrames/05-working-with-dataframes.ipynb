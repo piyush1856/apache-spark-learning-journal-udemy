{
 "cells": [
  {
   "cell_type": "code",
   "execution_count": 0,
   "metadata": {
    "application/vnd.databricks.v1+cell": {
     "cellMetadata": {
      "byteLimit": 2048000,
      "rowLimit": 10000
     },
     "inputWidgets": {},
     "nuid": "5a934be7-d1bf-4fa4-b71b-0c9a3be8911c",
     "showTitle": false,
     "title": ""
    }
   },
   "outputs": [],
   "source": [
    "from pyspark.sql.functions import *"
   ]
  },
  {
   "cell_type": "code",
   "execution_count": 0,
   "metadata": {
    "application/vnd.databricks.v1+cell": {
     "cellMetadata": {
      "byteLimit": 2048000,
      "rowLimit": 10000
     },
     "inputWidgets": {},
     "nuid": "cf47527d-9b60-4cf2-89db-4b0562811303",
     "showTitle": false,
     "title": ""
    }
   },
   "outputs": [],
   "source": [
    "raw_fire_df = spark.read \\\n",
    "    .format(\"csv\") \\\n",
    "    .option(\"header\", \"true\") \\\n",
    "    .option(\"inferSchema\",\"true\") \\\n",
    "    .load(\"/databricks-datasets/learning-spark-v2/sf-fire/sf-fire-calls.csv\")"
   ]
  },
  {
   "cell_type": "code",
   "execution_count": 0,
   "metadata": {
    "application/vnd.databricks.v1+cell": {
     "cellMetadata": {
      "byteLimit": 2048000,
      "rowLimit": 10000
     },
     "inputWidgets": {},
     "nuid": "f2974876-16c7-4215-8d6c-a93f151634ad",
     "showTitle": false,
     "title": ""
    }
   },
   "outputs": [
    {
     "output_type": "display_data",
     "data": {
      "text/html": [
       "<style scoped>\n",
       "  .table-result-container {\n",
       "    max-height: 300px;\n",
       "    overflow: auto;\n",
       "  }\n",
       "  table, th, td {\n",
       "    border: 1px solid black;\n",
       "    border-collapse: collapse;\n",
       "  }\n",
       "  th, td {\n",
       "    padding: 5px;\n",
       "  }\n",
       "  th {\n",
       "    text-align: left;\n",
       "  }\n",
       "</style><div class='table-result-container'><table class='table-result'><thead style='background-color: white'><tr><th>Call Number</th><th>Unit ID</th><th>Incident Number</th><th>CallType</th><th>Call Date</th><th>Watch Date</th><th>Call Final Disposition</th><th>Available DtTm</th><th>Address</th><th>City</th><th>Zipcode of Incident</th><th>Battalion</th><th>Station Area</th><th>Box</th><th>OrigPriority</th><th>Priority</th><th>Final Priority</th><th>ALS Unit</th><th>Call Type Group</th><th>NumAlarms</th><th>UnitType</th><th>Unit sequence in call dispatch</th><th>Fire Prevention District</th><th>Supervisor District</th><th>Neighborhood</th><th>Location</th><th>RowID</th><th>Delay</th></tr></thead><tbody><tr><td>20110014</td><td>M29</td><td>2003234</td><td>Medical Incident</td><td>2002-01-11</td><td>2002-01-10</td><td>Other</td><td>01/11/2002 01:58:43 AM</td><td>10TH ST/MARKET ST</td><td>SF</td><td>94103</td><td>B02</td><td>36</td><td>2338</td><td>1</td><td>1</td><td>2</td><td>true</td><td>null</td><td>1</td><td>MEDIC</td><td>1</td><td>2</td><td>6</td><td>Tenderloin</td><td>(37.7765408927183, -122.417501464907)</td><td>020110014-M29</td><td>5.233333333333333</td></tr><tr><td>20110015</td><td>M08</td><td>2003233</td><td>Medical Incident</td><td>2002-01-11</td><td>2002-01-10</td><td>Other</td><td>01/11/2002 02:10:17 AM</td><td>300 Block of 5TH ST</td><td>SF</td><td>94107</td><td>B03</td><td>08</td><td>2243</td><td>1</td><td>1</td><td>2</td><td>true</td><td>null</td><td>1</td><td>MEDIC</td><td>1</td><td>3</td><td>6</td><td>South of Market</td><td>(37.7792841462441, -122.402061300134)</td><td>020110015-M08</td><td>3.0833333333333335</td></tr><tr><td>20110016</td><td>B02</td><td>2003235</td><td>Structure Fire</td><td>2002-01-11</td><td>2002-01-10</td><td>Other</td><td>01/11/2002 01:47:00 AM</td><td>2000 Block of CALIFORNIA ST</td><td>SF</td><td>94109</td><td>B04</td><td>38</td><td>3362</td><td>3</td><td>3</td><td>3</td><td>false</td><td>null</td><td>1</td><td>CHIEF</td><td>6</td><td>4</td><td>5</td><td>Pacific Heights</td><td>(37.7895840679362, -122.428071912459)</td><td>020110016-B02</td><td>3.05</td></tr><tr><td>20110016</td><td>B04</td><td>2003235</td><td>Structure Fire</td><td>2002-01-11</td><td>2002-01-10</td><td>Other</td><td>01/11/2002 01:51:54 AM</td><td>2000 Block of CALIFORNIA ST</td><td>SF</td><td>94109</td><td>B04</td><td>38</td><td>3362</td><td>3</td><td>3</td><td>3</td><td>false</td><td>null</td><td>1</td><td>CHIEF</td><td>3</td><td>4</td><td>5</td><td>Pacific Heights</td><td>(37.7895840679362, -122.428071912459)</td><td>020110016-B04</td><td>2.316666666666667</td></tr><tr><td>20110016</td><td>D2</td><td>2003235</td><td>Structure Fire</td><td>2002-01-11</td><td>2002-01-10</td><td>Other</td><td>01/11/2002 01:47:00 AM</td><td>2000 Block of CALIFORNIA ST</td><td>SF</td><td>94109</td><td>B04</td><td>38</td><td>3362</td><td>3</td><td>3</td><td>3</td><td>false</td><td>null</td><td>1</td><td>CHIEF</td><td>4</td><td>4</td><td>5</td><td>Pacific Heights</td><td>(37.7895840679362, -122.428071912459)</td><td>020110016-D2</td><td>3.0166666666666666</td></tr></tbody></table></div>"
      ]
     },
     "metadata": {
      "application/vnd.databricks.v1+output": {
       "addedWidgets": {},
       "aggData": [],
       "aggError": "",
       "aggOverflow": false,
       "aggSchema": [],
       "aggSeriesLimitReached": false,
       "aggType": "",
       "arguments": {},
       "columnCustomDisplayInfos": {},
       "data": [
        [
         20110014,
         "M29",
         2003234,
         "Medical Incident",
         "2002-01-11",
         "2002-01-10",
         "Other",
         "01/11/2002 01:58:43 AM",
         "10TH ST/MARKET ST",
         "SF",
         94103,
         "B02",
         "36",
         "2338",
         "1",
         "1",
         2,
         true,
         null,
         1,
         "MEDIC",
         1,
         "2",
         "6",
         "Tenderloin",
         "(37.7765408927183, -122.417501464907)",
         "020110014-M29",
         5.233333333333333
        ],
        [
         20110015,
         "M08",
         2003233,
         "Medical Incident",
         "2002-01-11",
         "2002-01-10",
         "Other",
         "01/11/2002 02:10:17 AM",
         "300 Block of 5TH ST",
         "SF",
         94107,
         "B03",
         "08",
         "2243",
         "1",
         "1",
         2,
         true,
         null,
         1,
         "MEDIC",
         1,
         "3",
         "6",
         "South of Market",
         "(37.7792841462441, -122.402061300134)",
         "020110015-M08",
         3.0833333333333335
        ],
        [
         20110016,
         "B02",
         2003235,
         "Structure Fire",
         "2002-01-11",
         "2002-01-10",
         "Other",
         "01/11/2002 01:47:00 AM",
         "2000 Block of CALIFORNIA ST",
         "SF",
         94109,
         "B04",
         "38",
         "3362",
         "3",
         "3",
         3,
         false,
         null,
         1,
         "CHIEF",
         6,
         "4",
         "5",
         "Pacific Heights",
         "(37.7895840679362, -122.428071912459)",
         "020110016-B02",
         3.05
        ],
        [
         20110016,
         "B04",
         2003235,
         "Structure Fire",
         "2002-01-11",
         "2002-01-10",
         "Other",
         "01/11/2002 01:51:54 AM",
         "2000 Block of CALIFORNIA ST",
         "SF",
         94109,
         "B04",
         "38",
         "3362",
         "3",
         "3",
         3,
         false,
         null,
         1,
         "CHIEF",
         3,
         "4",
         "5",
         "Pacific Heights",
         "(37.7895840679362, -122.428071912459)",
         "020110016-B04",
         2.316666666666667
        ],
        [
         20110016,
         "D2",
         2003235,
         "Structure Fire",
         "2002-01-11",
         "2002-01-10",
         "Other",
         "01/11/2002 01:47:00 AM",
         "2000 Block of CALIFORNIA ST",
         "SF",
         94109,
         "B04",
         "38",
         "3362",
         "3",
         "3",
         3,
         false,
         null,
         1,
         "CHIEF",
         4,
         "4",
         "5",
         "Pacific Heights",
         "(37.7895840679362, -122.428071912459)",
         "020110016-D2",
         3.0166666666666666
        ]
       ],
       "datasetInfos": [],
       "dbfsResultPath": null,
       "isJsonSchema": true,
       "metadata": {},
       "overflow": false,
       "plotOptions": {
        "customPlotOptions": {},
        "displayType": "table",
        "pivotAggregation": null,
        "pivotColumns": null,
        "xColumns": null,
        "yColumns": null
       },
       "removedWidgets": [],
       "schema": [
        {
         "metadata": "{}",
         "name": "Call Number",
         "type": "\"integer\""
        },
        {
         "metadata": "{}",
         "name": "Unit ID",
         "type": "\"string\""
        },
        {
         "metadata": "{}",
         "name": "Incident Number",
         "type": "\"integer\""
        },
        {
         "metadata": "{}",
         "name": "CallType",
         "type": "\"string\""
        },
        {
         "metadata": "{\"__detected_date_formats\":\"M/d/yyyy\"}",
         "name": "Call Date",
         "type": "\"date\""
        },
        {
         "metadata": "{\"__detected_date_formats\":\"M/d/yyyy\"}",
         "name": "Watch Date",
         "type": "\"date\""
        },
        {
         "metadata": "{}",
         "name": "Call Final Disposition",
         "type": "\"string\""
        },
        {
         "metadata": "{}",
         "name": "Available DtTm",
         "type": "\"string\""
        },
        {
         "metadata": "{}",
         "name": "Address",
         "type": "\"string\""
        },
        {
         "metadata": "{}",
         "name": "City",
         "type": "\"string\""
        },
        {
         "metadata": "{}",
         "name": "Zipcode of Incident",
         "type": "\"integer\""
        },
        {
         "metadata": "{}",
         "name": "Battalion",
         "type": "\"string\""
        },
        {
         "metadata": "{}",
         "name": "Station Area",
         "type": "\"string\""
        },
        {
         "metadata": "{}",
         "name": "Box",
         "type": "\"string\""
        },
        {
         "metadata": "{}",
         "name": "OrigPriority",
         "type": "\"string\""
        },
        {
         "metadata": "{}",
         "name": "Priority",
         "type": "\"string\""
        },
        {
         "metadata": "{}",
         "name": "Final Priority",
         "type": "\"integer\""
        },
        {
         "metadata": "{}",
         "name": "ALS Unit",
         "type": "\"boolean\""
        },
        {
         "metadata": "{}",
         "name": "Call Type Group",
         "type": "\"string\""
        },
        {
         "metadata": "{}",
         "name": "NumAlarms",
         "type": "\"integer\""
        },
        {
         "metadata": "{}",
         "name": "UnitType",
         "type": "\"string\""
        },
        {
         "metadata": "{}",
         "name": "Unit sequence in call dispatch",
         "type": "\"integer\""
        },
        {
         "metadata": "{}",
         "name": "Fire Prevention District",
         "type": "\"string\""
        },
        {
         "metadata": "{}",
         "name": "Supervisor District",
         "type": "\"string\""
        },
        {
         "metadata": "{}",
         "name": "Neighborhood",
         "type": "\"string\""
        },
        {
         "metadata": "{}",
         "name": "Location",
         "type": "\"string\""
        },
        {
         "metadata": "{}",
         "name": "RowID",
         "type": "\"string\""
        },
        {
         "metadata": "{}",
         "name": "Delay",
         "type": "\"double\""
        }
       ],
       "type": "table"
      }
     },
     "output_type": "display_data"
    }
   ],
   "source": [
    "display(raw_fire_df.limit(5))"
   ]
  },
  {
   "cell_type": "markdown",
   "metadata": {
    "application/vnd.databricks.v1+cell": {
     "cellMetadata": {},
     "inputWidgets": {},
     "nuid": "db3ff94c-d7ee-4f3d-8996-f4d21bcbdea6",
     "showTitle": false,
     "title": ""
    }
   },
   "source": [
    "- Coloumn Names are not standardized\n",
    "- date is in string format"
   ]
  },
  {
   "cell_type": "code",
   "execution_count": 0,
   "metadata": {
    "application/vnd.databricks.v1+cell": {
     "cellMetadata": {
      "byteLimit": 2048000,
      "rowLimit": 10000
     },
     "inputWidgets": {},
     "nuid": "46d21a67-e62e-4262-83ed-83014fb96cb9",
     "showTitle": false,
     "title": ""
    }
   },
   "outputs": [],
   "source": [
    "# Trasformation : withColumnRenamed\n",
    "renamed_fire_df = raw_fire_df \\\n",
    "    .withColumnRenamed(\"Call Number\", \"CallNumber\") \\\n",
    "    .withColumnRenamed(\"Unit ID\", \"UnitID\") \\\n",
    "    .withColumnRenamed(\"Incident Number\", \"IncidentNumber\") \\\n",
    "    .withColumnRenamed(\"Call Date\", \"CallDate\") \\\n",
    "    .withColumnRenamed(\"Watch Date\", \"WatchDate\") \\\n",
    "    .withColumnRenamed(\"Call Final Disposition\", \"CallFinalDisposition\") \\\n",
    "    .withColumnRenamed(\"Available DtTm\", \"AvailableDtTm\") \\\n",
    "    .withColumnRenamed(\"Zipcode of Incident\", \"Zipcode\") \\\n",
    "    .withColumnRenamed(\"Station Area\", \"StationArea\") \\\n",
    "    .withColumnRenamed(\"Final Priority\", \"FinalPriority\") \\\n",
    "    .withColumnRenamed(\"ALS Unit\", \"ALSUnit\") \\\n",
    "    .withColumnRenamed(\"Call Type Group\", \"CallTypeGroup\") \\\n",
    "    .withColumnRenamed(\"Unit sequence in call dispatch\", \"UnitSequenceInCallDispatch\") \\\n",
    "    .withColumnRenamed(\"Fire Prevention District\", \"FirePreventionDistrict\") \\\n",
    "    .withColumnRenamed(\"Supervisor District\", \"SupervisorDistrict\")"
   ]
  },
  {
   "cell_type": "code",
   "execution_count": 0,
   "metadata": {
    "application/vnd.databricks.v1+cell": {
     "cellMetadata": {
      "byteLimit": 2048000,
      "rowLimit": 10000
     },
     "inputWidgets": {},
     "nuid": "9564aa5b-562a-4133-9345-63e7a4711179",
     "showTitle": false,
     "title": ""
    }
   },
   "outputs": [
    {
     "output_type": "display_data",
     "data": {
      "text/html": [
       "<style scoped>\n",
       "  .table-result-container {\n",
       "    max-height: 300px;\n",
       "    overflow: auto;\n",
       "  }\n",
       "  table, th, td {\n",
       "    border: 1px solid black;\n",
       "    border-collapse: collapse;\n",
       "  }\n",
       "  th, td {\n",
       "    padding: 5px;\n",
       "  }\n",
       "  th {\n",
       "    text-align: left;\n",
       "  }\n",
       "</style><div class='table-result-container'><table class='table-result'><thead style='background-color: white'><tr><th>CallNumber</th><th>UnitID</th><th>IncidentNumber</th><th>CallType</th><th>CallDate</th><th>WatchDate</th><th>CallFinalDisposition</th><th>AvailableDtTm</th><th>Address</th><th>City</th><th>Zipcode</th><th>Battalion</th><th>StationArea</th><th>Box</th><th>OrigPriority</th><th>Priority</th><th>FinalPriority</th><th>ALSUnit</th><th>CallTypeGroup</th><th>NumAlarms</th><th>UnitType</th><th>UnitSequenceInCallDispatch</th><th>FirePreventionDistrict</th><th>SupervisorDistrict</th><th>Neighborhood</th><th>Location</th><th>RowID</th><th>Delay</th></tr></thead><tbody><tr><td>20110014</td><td>M29</td><td>2003234</td><td>Medical Incident</td><td>2002-01-11</td><td>2002-01-10</td><td>Other</td><td>01/11/2002 01:58:43 AM</td><td>10TH ST/MARKET ST</td><td>SF</td><td>94103</td><td>B02</td><td>36</td><td>2338</td><td>1</td><td>1</td><td>2</td><td>true</td><td>null</td><td>1</td><td>MEDIC</td><td>1</td><td>2</td><td>6</td><td>Tenderloin</td><td>(37.7765408927183, -122.417501464907)</td><td>020110014-M29</td><td>5.233333333333333</td></tr><tr><td>20110015</td><td>M08</td><td>2003233</td><td>Medical Incident</td><td>2002-01-11</td><td>2002-01-10</td><td>Other</td><td>01/11/2002 02:10:17 AM</td><td>300 Block of 5TH ST</td><td>SF</td><td>94107</td><td>B03</td><td>08</td><td>2243</td><td>1</td><td>1</td><td>2</td><td>true</td><td>null</td><td>1</td><td>MEDIC</td><td>1</td><td>3</td><td>6</td><td>South of Market</td><td>(37.7792841462441, -122.402061300134)</td><td>020110015-M08</td><td>3.0833333333333335</td></tr><tr><td>20110016</td><td>B02</td><td>2003235</td><td>Structure Fire</td><td>2002-01-11</td><td>2002-01-10</td><td>Other</td><td>01/11/2002 01:47:00 AM</td><td>2000 Block of CALIFORNIA ST</td><td>SF</td><td>94109</td><td>B04</td><td>38</td><td>3362</td><td>3</td><td>3</td><td>3</td><td>false</td><td>null</td><td>1</td><td>CHIEF</td><td>6</td><td>4</td><td>5</td><td>Pacific Heights</td><td>(37.7895840679362, -122.428071912459)</td><td>020110016-B02</td><td>3.05</td></tr><tr><td>20110016</td><td>B04</td><td>2003235</td><td>Structure Fire</td><td>2002-01-11</td><td>2002-01-10</td><td>Other</td><td>01/11/2002 01:51:54 AM</td><td>2000 Block of CALIFORNIA ST</td><td>SF</td><td>94109</td><td>B04</td><td>38</td><td>3362</td><td>3</td><td>3</td><td>3</td><td>false</td><td>null</td><td>1</td><td>CHIEF</td><td>3</td><td>4</td><td>5</td><td>Pacific Heights</td><td>(37.7895840679362, -122.428071912459)</td><td>020110016-B04</td><td>2.316666666666667</td></tr><tr><td>20110016</td><td>D2</td><td>2003235</td><td>Structure Fire</td><td>2002-01-11</td><td>2002-01-10</td><td>Other</td><td>01/11/2002 01:47:00 AM</td><td>2000 Block of CALIFORNIA ST</td><td>SF</td><td>94109</td><td>B04</td><td>38</td><td>3362</td><td>3</td><td>3</td><td>3</td><td>false</td><td>null</td><td>1</td><td>CHIEF</td><td>4</td><td>4</td><td>5</td><td>Pacific Heights</td><td>(37.7895840679362, -122.428071912459)</td><td>020110016-D2</td><td>3.0166666666666666</td></tr></tbody></table></div>"
      ]
     },
     "metadata": {
      "application/vnd.databricks.v1+output": {
       "addedWidgets": {},
       "aggData": [],
       "aggError": "",
       "aggOverflow": false,
       "aggSchema": [],
       "aggSeriesLimitReached": false,
       "aggType": "",
       "arguments": {},
       "columnCustomDisplayInfos": {},
       "data": [
        [
         20110014,
         "M29",
         2003234,
         "Medical Incident",
         "2002-01-11",
         "2002-01-10",
         "Other",
         "01/11/2002 01:58:43 AM",
         "10TH ST/MARKET ST",
         "SF",
         94103,
         "B02",
         "36",
         "2338",
         "1",
         "1",
         2,
         true,
         null,
         1,
         "MEDIC",
         1,
         "2",
         "6",
         "Tenderloin",
         "(37.7765408927183, -122.417501464907)",
         "020110014-M29",
         5.233333333333333
        ],
        [
         20110015,
         "M08",
         2003233,
         "Medical Incident",
         "2002-01-11",
         "2002-01-10",
         "Other",
         "01/11/2002 02:10:17 AM",
         "300 Block of 5TH ST",
         "SF",
         94107,
         "B03",
         "08",
         "2243",
         "1",
         "1",
         2,
         true,
         null,
         1,
         "MEDIC",
         1,
         "3",
         "6",
         "South of Market",
         "(37.7792841462441, -122.402061300134)",
         "020110015-M08",
         3.0833333333333335
        ],
        [
         20110016,
         "B02",
         2003235,
         "Structure Fire",
         "2002-01-11",
         "2002-01-10",
         "Other",
         "01/11/2002 01:47:00 AM",
         "2000 Block of CALIFORNIA ST",
         "SF",
         94109,
         "B04",
         "38",
         "3362",
         "3",
         "3",
         3,
         false,
         null,
         1,
         "CHIEF",
         6,
         "4",
         "5",
         "Pacific Heights",
         "(37.7895840679362, -122.428071912459)",
         "020110016-B02",
         3.05
        ],
        [
         20110016,
         "B04",
         2003235,
         "Structure Fire",
         "2002-01-11",
         "2002-01-10",
         "Other",
         "01/11/2002 01:51:54 AM",
         "2000 Block of CALIFORNIA ST",
         "SF",
         94109,
         "B04",
         "38",
         "3362",
         "3",
         "3",
         3,
         false,
         null,
         1,
         "CHIEF",
         3,
         "4",
         "5",
         "Pacific Heights",
         "(37.7895840679362, -122.428071912459)",
         "020110016-B04",
         2.316666666666667
        ],
        [
         20110016,
         "D2",
         2003235,
         "Structure Fire",
         "2002-01-11",
         "2002-01-10",
         "Other",
         "01/11/2002 01:47:00 AM",
         "2000 Block of CALIFORNIA ST",
         "SF",
         94109,
         "B04",
         "38",
         "3362",
         "3",
         "3",
         3,
         false,
         null,
         1,
         "CHIEF",
         4,
         "4",
         "5",
         "Pacific Heights",
         "(37.7895840679362, -122.428071912459)",
         "020110016-D2",
         3.0166666666666666
        ]
       ],
       "datasetInfos": [],
       "dbfsResultPath": null,
       "isJsonSchema": true,
       "metadata": {},
       "overflow": false,
       "plotOptions": {
        "customPlotOptions": {},
        "displayType": "table",
        "pivotAggregation": null,
        "pivotColumns": null,
        "xColumns": null,
        "yColumns": null
       },
       "removedWidgets": [],
       "schema": [
        {
         "metadata": "{}",
         "name": "CallNumber",
         "type": "\"integer\""
        },
        {
         "metadata": "{}",
         "name": "UnitID",
         "type": "\"string\""
        },
        {
         "metadata": "{}",
         "name": "IncidentNumber",
         "type": "\"integer\""
        },
        {
         "metadata": "{}",
         "name": "CallType",
         "type": "\"string\""
        },
        {
         "metadata": "{\"__detected_date_formats\":\"M/d/yyyy\"}",
         "name": "CallDate",
         "type": "\"date\""
        },
        {
         "metadata": "{\"__detected_date_formats\":\"M/d/yyyy\"}",
         "name": "WatchDate",
         "type": "\"date\""
        },
        {
         "metadata": "{}",
         "name": "CallFinalDisposition",
         "type": "\"string\""
        },
        {
         "metadata": "{}",
         "name": "AvailableDtTm",
         "type": "\"string\""
        },
        {
         "metadata": "{}",
         "name": "Address",
         "type": "\"string\""
        },
        {
         "metadata": "{}",
         "name": "City",
         "type": "\"string\""
        },
        {
         "metadata": "{}",
         "name": "Zipcode",
         "type": "\"integer\""
        },
        {
         "metadata": "{}",
         "name": "Battalion",
         "type": "\"string\""
        },
        {
         "metadata": "{}",
         "name": "StationArea",
         "type": "\"string\""
        },
        {
         "metadata": "{}",
         "name": "Box",
         "type": "\"string\""
        },
        {
         "metadata": "{}",
         "name": "OrigPriority",
         "type": "\"string\""
        },
        {
         "metadata": "{}",
         "name": "Priority",
         "type": "\"string\""
        },
        {
         "metadata": "{}",
         "name": "FinalPriority",
         "type": "\"integer\""
        },
        {
         "metadata": "{}",
         "name": "ALSUnit",
         "type": "\"boolean\""
        },
        {
         "metadata": "{}",
         "name": "CallTypeGroup",
         "type": "\"string\""
        },
        {
         "metadata": "{}",
         "name": "NumAlarms",
         "type": "\"integer\""
        },
        {
         "metadata": "{}",
         "name": "UnitType",
         "type": "\"string\""
        },
        {
         "metadata": "{}",
         "name": "UnitSequenceInCallDispatch",
         "type": "\"integer\""
        },
        {
         "metadata": "{}",
         "name": "FirePreventionDistrict",
         "type": "\"string\""
        },
        {
         "metadata": "{}",
         "name": "SupervisorDistrict",
         "type": "\"string\""
        },
        {
         "metadata": "{}",
         "name": "Neighborhood",
         "type": "\"string\""
        },
        {
         "metadata": "{}",
         "name": "Location",
         "type": "\"string\""
        },
        {
         "metadata": "{}",
         "name": "RowID",
         "type": "\"string\""
        },
        {
         "metadata": "{}",
         "name": "Delay",
         "type": "\"double\""
        }
       ],
       "type": "table"
      }
     },
     "output_type": "display_data"
    }
   ],
   "source": [
    "display(renamed_fire_df.limit(5))"
   ]
  },
  {
   "cell_type": "code",
   "execution_count": 0,
   "metadata": {
    "application/vnd.databricks.v1+cell": {
     "cellMetadata": {
      "byteLimit": 2048000,
      "rowLimit": 10000
     },
     "inputWidgets": {},
     "nuid": "11bed468-6991-44c6-9a64-520bb0410def",
     "showTitle": false,
     "title": ""
    }
   },
   "outputs": [
    {
     "output_type": "stream",
     "name": "stdout",
     "output_type": "stream",
     "text": [
      "root\n |-- CallNumber: integer (nullable = true)\n |-- UnitID: string (nullable = true)\n |-- IncidentNumber: integer (nullable = true)\n |-- CallType: string (nullable = true)\n |-- CallDate: date (nullable = true)\n |-- WatchDate: date (nullable = true)\n |-- CallFinalDisposition: string (nullable = true)\n |-- AvailableDtTm: string (nullable = true)\n |-- Address: string (nullable = true)\n |-- City: string (nullable = true)\n |-- Zipcode: integer (nullable = true)\n |-- Battalion: string (nullable = true)\n |-- StationArea: string (nullable = true)\n |-- Box: string (nullable = true)\n |-- OrigPriority: string (nullable = true)\n |-- Priority: string (nullable = true)\n |-- FinalPriority: integer (nullable = true)\n |-- ALSUnit: boolean (nullable = true)\n |-- CallTypeGroup: string (nullable = true)\n |-- NumAlarms: integer (nullable = true)\n |-- UnitType: string (nullable = true)\n |-- UnitSequenceInCallDispatch: integer (nullable = true)\n |-- FirePreventionDistrict: string (nullable = true)\n |-- SupervisorDistrict: string (nullable = true)\n |-- Neighborhood: string (nullable = true)\n |-- Location: string (nullable = true)\n |-- RowID: string (nullable = true)\n |-- Delay: double (nullable = true)\n\n"
     ]
    }
   ],
   "source": [
    "# printSchema() is a utility method\n",
    "renamed_fire_df.printSchema()"
   ]
  },
  {
   "cell_type": "code",
   "execution_count": 0,
   "metadata": {
    "application/vnd.databricks.v1+cell": {
     "cellMetadata": {
      "byteLimit": 2048000,
      "rowLimit": 10000
     },
     "inputWidgets": {},
     "nuid": "a687cfac-d726-42b0-9312-3f951291ba0a",
     "showTitle": false,
     "title": ""
    }
   },
   "outputs": [],
   "source": [
    "# Trasformation : withColoumn\n",
    "fire_df = renamed_fire_df \\\n",
    "    .withColumn(\"CallDate\", to_date(\"CallDate\", \"yyyy-MM-dd\")) \\\n",
    "    .withColumn(\"WatchDate\", to_date(\"WatchDate\", \"yyyy-MM-dd\")) \\\n",
    "    .withColumn(\"AvailableDtTm\", to_timestamp(\"AvailableDtTm\", \"MM/dd/yyyy hh:mm:ss a\")) \\\n",
    "    .withColumn(\"Delay\", round(\"Delay\", 2))"
   ]
  },
  {
   "cell_type": "code",
   "execution_count": 0,
   "metadata": {
    "application/vnd.databricks.v1+cell": {
     "cellMetadata": {
      "byteLimit": 2048000,
      "rowLimit": 10000
     },
     "inputWidgets": {},
     "nuid": "c94327ae-437e-4e33-a256-7172528b58c7",
     "showTitle": false,
     "title": ""
    }
   },
   "outputs": [
    {
     "output_type": "display_data",
     "data": {
      "text/html": [
       "<style scoped>\n",
       "  .table-result-container {\n",
       "    max-height: 300px;\n",
       "    overflow: auto;\n",
       "  }\n",
       "  table, th, td {\n",
       "    border: 1px solid black;\n",
       "    border-collapse: collapse;\n",
       "  }\n",
       "  th, td {\n",
       "    padding: 5px;\n",
       "  }\n",
       "  th {\n",
       "    text-align: left;\n",
       "  }\n",
       "</style><div class='table-result-container'><table class='table-result'><thead style='background-color: white'><tr><th>CallNumber</th><th>UnitID</th><th>IncidentNumber</th><th>CallType</th><th>CallDate</th><th>WatchDate</th><th>CallFinalDisposition</th><th>AvailableDtTm</th><th>Address</th><th>City</th><th>Zipcode</th><th>Battalion</th><th>StationArea</th><th>Box</th><th>OrigPriority</th><th>Priority</th><th>FinalPriority</th><th>ALSUnit</th><th>CallTypeGroup</th><th>NumAlarms</th><th>UnitType</th><th>UnitSequenceInCallDispatch</th><th>FirePreventionDistrict</th><th>SupervisorDistrict</th><th>Neighborhood</th><th>Location</th><th>RowID</th><th>Delay</th></tr></thead><tbody><tr><td>20110014</td><td>M29</td><td>2003234</td><td>Medical Incident</td><td>2002-01-11</td><td>2002-01-10</td><td>Other</td><td>2002-01-11T01:58:43.000+0000</td><td>10TH ST/MARKET ST</td><td>SF</td><td>94103</td><td>B02</td><td>36</td><td>2338</td><td>1</td><td>1</td><td>2</td><td>true</td><td>null</td><td>1</td><td>MEDIC</td><td>1</td><td>2</td><td>6</td><td>Tenderloin</td><td>(37.7765408927183, -122.417501464907)</td><td>020110014-M29</td><td>5.23</td></tr><tr><td>20110015</td><td>M08</td><td>2003233</td><td>Medical Incident</td><td>2002-01-11</td><td>2002-01-10</td><td>Other</td><td>2002-01-11T02:10:17.000+0000</td><td>300 Block of 5TH ST</td><td>SF</td><td>94107</td><td>B03</td><td>08</td><td>2243</td><td>1</td><td>1</td><td>2</td><td>true</td><td>null</td><td>1</td><td>MEDIC</td><td>1</td><td>3</td><td>6</td><td>South of Market</td><td>(37.7792841462441, -122.402061300134)</td><td>020110015-M08</td><td>3.08</td></tr><tr><td>20110016</td><td>B02</td><td>2003235</td><td>Structure Fire</td><td>2002-01-11</td><td>2002-01-10</td><td>Other</td><td>2002-01-11T01:47:00.000+0000</td><td>2000 Block of CALIFORNIA ST</td><td>SF</td><td>94109</td><td>B04</td><td>38</td><td>3362</td><td>3</td><td>3</td><td>3</td><td>false</td><td>null</td><td>1</td><td>CHIEF</td><td>6</td><td>4</td><td>5</td><td>Pacific Heights</td><td>(37.7895840679362, -122.428071912459)</td><td>020110016-B02</td><td>3.05</td></tr><tr><td>20110016</td><td>B04</td><td>2003235</td><td>Structure Fire</td><td>2002-01-11</td><td>2002-01-10</td><td>Other</td><td>2002-01-11T01:51:54.000+0000</td><td>2000 Block of CALIFORNIA ST</td><td>SF</td><td>94109</td><td>B04</td><td>38</td><td>3362</td><td>3</td><td>3</td><td>3</td><td>false</td><td>null</td><td>1</td><td>CHIEF</td><td>3</td><td>4</td><td>5</td><td>Pacific Heights</td><td>(37.7895840679362, -122.428071912459)</td><td>020110016-B04</td><td>2.32</td></tr><tr><td>20110016</td><td>D2</td><td>2003235</td><td>Structure Fire</td><td>2002-01-11</td><td>2002-01-10</td><td>Other</td><td>2002-01-11T01:47:00.000+0000</td><td>2000 Block of CALIFORNIA ST</td><td>SF</td><td>94109</td><td>B04</td><td>38</td><td>3362</td><td>3</td><td>3</td><td>3</td><td>false</td><td>null</td><td>1</td><td>CHIEF</td><td>4</td><td>4</td><td>5</td><td>Pacific Heights</td><td>(37.7895840679362, -122.428071912459)</td><td>020110016-D2</td><td>3.02</td></tr></tbody></table></div>"
      ]
     },
     "metadata": {
      "application/vnd.databricks.v1+output": {
       "addedWidgets": {},
       "aggData": [],
       "aggError": "",
       "aggOverflow": false,
       "aggSchema": [],
       "aggSeriesLimitReached": false,
       "aggType": "",
       "arguments": {},
       "columnCustomDisplayInfos": {},
       "data": [
        [
         20110014,
         "M29",
         2003234,
         "Medical Incident",
         "2002-01-11",
         "2002-01-10",
         "Other",
         "2002-01-11T01:58:43.000+0000",
         "10TH ST/MARKET ST",
         "SF",
         94103,
         "B02",
         "36",
         "2338",
         "1",
         "1",
         2,
         true,
         null,
         1,
         "MEDIC",
         1,
         "2",
         "6",
         "Tenderloin",
         "(37.7765408927183, -122.417501464907)",
         "020110014-M29",
         5.23
        ],
        [
         20110015,
         "M08",
         2003233,
         "Medical Incident",
         "2002-01-11",
         "2002-01-10",
         "Other",
         "2002-01-11T02:10:17.000+0000",
         "300 Block of 5TH ST",
         "SF",
         94107,
         "B03",
         "08",
         "2243",
         "1",
         "1",
         2,
         true,
         null,
         1,
         "MEDIC",
         1,
         "3",
         "6",
         "South of Market",
         "(37.7792841462441, -122.402061300134)",
         "020110015-M08",
         3.08
        ],
        [
         20110016,
         "B02",
         2003235,
         "Structure Fire",
         "2002-01-11",
         "2002-01-10",
         "Other",
         "2002-01-11T01:47:00.000+0000",
         "2000 Block of CALIFORNIA ST",
         "SF",
         94109,
         "B04",
         "38",
         "3362",
         "3",
         "3",
         3,
         false,
         null,
         1,
         "CHIEF",
         6,
         "4",
         "5",
         "Pacific Heights",
         "(37.7895840679362, -122.428071912459)",
         "020110016-B02",
         3.05
        ],
        [
         20110016,
         "B04",
         2003235,
         "Structure Fire",
         "2002-01-11",
         "2002-01-10",
         "Other",
         "2002-01-11T01:51:54.000+0000",
         "2000 Block of CALIFORNIA ST",
         "SF",
         94109,
         "B04",
         "38",
         "3362",
         "3",
         "3",
         3,
         false,
         null,
         1,
         "CHIEF",
         3,
         "4",
         "5",
         "Pacific Heights",
         "(37.7895840679362, -122.428071912459)",
         "020110016-B04",
         2.32
        ],
        [
         20110016,
         "D2",
         2003235,
         "Structure Fire",
         "2002-01-11",
         "2002-01-10",
         "Other",
         "2002-01-11T01:47:00.000+0000",
         "2000 Block of CALIFORNIA ST",
         "SF",
         94109,
         "B04",
         "38",
         "3362",
         "3",
         "3",
         3,
         false,
         null,
         1,
         "CHIEF",
         4,
         "4",
         "5",
         "Pacific Heights",
         "(37.7895840679362, -122.428071912459)",
         "020110016-D2",
         3.02
        ]
       ],
       "datasetInfos": [],
       "dbfsResultPath": null,
       "isJsonSchema": true,
       "metadata": {},
       "overflow": false,
       "plotOptions": {
        "customPlotOptions": {},
        "displayType": "table",
        "pivotAggregation": null,
        "pivotColumns": null,
        "xColumns": null,
        "yColumns": null
       },
       "removedWidgets": [],
       "schema": [
        {
         "metadata": "{}",
         "name": "CallNumber",
         "type": "\"integer\""
        },
        {
         "metadata": "{}",
         "name": "UnitID",
         "type": "\"string\""
        },
        {
         "metadata": "{}",
         "name": "IncidentNumber",
         "type": "\"integer\""
        },
        {
         "metadata": "{}",
         "name": "CallType",
         "type": "\"string\""
        },
        {
         "metadata": "{}",
         "name": "CallDate",
         "type": "\"date\""
        },
        {
         "metadata": "{}",
         "name": "WatchDate",
         "type": "\"date\""
        },
        {
         "metadata": "{}",
         "name": "CallFinalDisposition",
         "type": "\"string\""
        },
        {
         "metadata": "{}",
         "name": "AvailableDtTm",
         "type": "\"timestamp\""
        },
        {
         "metadata": "{}",
         "name": "Address",
         "type": "\"string\""
        },
        {
         "metadata": "{}",
         "name": "City",
         "type": "\"string\""
        },
        {
         "metadata": "{}",
         "name": "Zipcode",
         "type": "\"integer\""
        },
        {
         "metadata": "{}",
         "name": "Battalion",
         "type": "\"string\""
        },
        {
         "metadata": "{}",
         "name": "StationArea",
         "type": "\"string\""
        },
        {
         "metadata": "{}",
         "name": "Box",
         "type": "\"string\""
        },
        {
         "metadata": "{}",
         "name": "OrigPriority",
         "type": "\"string\""
        },
        {
         "metadata": "{}",
         "name": "Priority",
         "type": "\"string\""
        },
        {
         "metadata": "{}",
         "name": "FinalPriority",
         "type": "\"integer\""
        },
        {
         "metadata": "{}",
         "name": "ALSUnit",
         "type": "\"boolean\""
        },
        {
         "metadata": "{}",
         "name": "CallTypeGroup",
         "type": "\"string\""
        },
        {
         "metadata": "{}",
         "name": "NumAlarms",
         "type": "\"integer\""
        },
        {
         "metadata": "{}",
         "name": "UnitType",
         "type": "\"string\""
        },
        {
         "metadata": "{}",
         "name": "UnitSequenceInCallDispatch",
         "type": "\"integer\""
        },
        {
         "metadata": "{}",
         "name": "FirePreventionDistrict",
         "type": "\"string\""
        },
        {
         "metadata": "{}",
         "name": "SupervisorDistrict",
         "type": "\"string\""
        },
        {
         "metadata": "{}",
         "name": "Neighborhood",
         "type": "\"string\""
        },
        {
         "metadata": "{}",
         "name": "Location",
         "type": "\"string\""
        },
        {
         "metadata": "{}",
         "name": "RowID",
         "type": "\"string\""
        },
        {
         "metadata": "{}",
         "name": "Delay",
         "type": "\"double\""
        }
       ],
       "type": "table"
      }
     },
     "output_type": "display_data"
    }
   ],
   "source": [
    "display(fire_df.limit(5))"
   ]
  },
  {
   "cell_type": "code",
   "execution_count": 0,
   "metadata": {
    "application/vnd.databricks.v1+cell": {
     "cellMetadata": {
      "byteLimit": 2048000,
      "rowLimit": 10000
     },
     "inputWidgets": {},
     "nuid": "f1a53b0e-f823-44c1-a091-fcafb4a9da42",
     "showTitle": false,
     "title": ""
    }
   },
   "outputs": [
    {
     "output_type": "stream",
     "name": "stdout",
     "output_type": "stream",
     "text": [
      "root\n |-- CallNumber: integer (nullable = true)\n |-- UnitID: string (nullable = true)\n |-- IncidentNumber: integer (nullable = true)\n |-- CallType: string (nullable = true)\n |-- CallDate: date (nullable = true)\n |-- WatchDate: date (nullable = true)\n |-- CallFinalDisposition: string (nullable = true)\n |-- AvailableDtTm: timestamp (nullable = true)\n |-- Address: string (nullable = true)\n |-- City: string (nullable = true)\n |-- Zipcode: integer (nullable = true)\n |-- Battalion: string (nullable = true)\n |-- StationArea: string (nullable = true)\n |-- Box: string (nullable = true)\n |-- OrigPriority: string (nullable = true)\n |-- Priority: string (nullable = true)\n |-- FinalPriority: integer (nullable = true)\n |-- ALSUnit: boolean (nullable = true)\n |-- CallTypeGroup: string (nullable = true)\n |-- NumAlarms: integer (nullable = true)\n |-- UnitType: string (nullable = true)\n |-- UnitSequenceInCallDispatch: integer (nullable = true)\n |-- FirePreventionDistrict: string (nullable = true)\n |-- SupervisorDistrict: string (nullable = true)\n |-- Neighborhood: string (nullable = true)\n |-- Location: string (nullable = true)\n |-- RowID: string (nullable = true)\n |-- Delay: double (nullable = true)\n\n"
     ]
    }
   ],
   "source": [
    "fire_df.printSchema()"
   ]
  },
  {
   "cell_type": "markdown",
   "metadata": {
    "application/vnd.databricks.v1+cell": {
     "cellMetadata": {},
     "inputWidgets": {},
     "nuid": "0758dafd-2cea-4e58-9a21-f3e3907e8877",
     "showTitle": false,
     "title": ""
    }
   },
   "source": [
    "- Spark Transformation methods can be chained\n",
    "- Tranformation do not change the existing dataframe instead return a new DF\n",
    "- Dataframes are immutable"
   ]
  },
  {
   "cell_type": "code",
   "execution_count": 0,
   "metadata": {
    "application/vnd.databricks.v1+cell": {
     "cellMetadata": {
      "byteLimit": 2048000,
      "rowLimit": 10000
     },
     "inputWidgets": {},
     "nuid": "00a69478-b973-4a38-8760-739038bc9307",
     "showTitle": false,
     "title": ""
    }
   },
   "outputs": [
    {
     "output_type": "stream",
     "name": "stdout",
     "output_type": "stream",
     "text": [
      "Out[11]: DataFrame[CallNumber: int, UnitID: string, IncidentNumber: int, CallType: string, CallDate: date, WatchDate: date, CallFinalDisposition: string, AvailableDtTm: timestamp, Address: string, City: string, Zipcode: int, Battalion: string, StationArea: string, Box: string, OrigPriority: string, Priority: string, FinalPriority: int, ALSUnit: boolean, CallTypeGroup: string, NumAlarms: int, UnitType: string, UnitSequenceInCallDispatch: int, FirePreventionDistrict: string, SupervisorDistrict: string, Neighborhood: string, Location: string, RowID: string, Delay: double]"
     ]
    }
   ],
   "source": [
    "# Utility Method \n",
    "# It helps in caching data into memory for faster execution, we are using it here because we to query the DF multiple times now\n",
    "fire_df.cache()"
   ]
  },
  {
   "cell_type": "markdown",
   "metadata": {
    "application/vnd.databricks.v1+cell": {
     "cellMetadata": {},
     "inputWidgets": {},
     "nuid": "b30cd53f-cfeb-4e67-a3b1-633c63e647be",
     "showTitle": false,
     "title": ""
    }
   },
   "source": [
    "**# will be using LIMIT just for better notes of notebook to revise**"
   ]
  },
  {
   "cell_type": "markdown",
   "metadata": {
    "application/vnd.databricks.v1+cell": {
     "cellMetadata": {},
     "inputWidgets": {},
     "nuid": "3cd66aa3-0cce-43ee-b3a1-ba85571aca68",
     "showTitle": false,
     "title": ""
    }
   },
   "source": [
    "#### Q1. How many distinct types of calls were made to the Fire Department?\n",
    "```\n",
    "select count(distinct CallType) as distinct_call_type_count\n",
    "from fire_service_calls_tbl\n",
    "where CallType is not null\n",
    "```"
   ]
  },
  {
   "cell_type": "code",
   "execution_count": 0,
   "metadata": {
    "application/vnd.databricks.v1+cell": {
     "cellMetadata": {
      "byteLimit": 2048000,
      "rowLimit": 10000
     },
     "inputWidgets": {},
     "nuid": "8a946d02-4e13-4d29-aa31-1ccf0b60956f",
     "showTitle": false,
     "title": ""
    }
   },
   "outputs": [
    {
     "output_type": "display_data",
     "data": {
      "text/html": [
       "<style scoped>\n",
       "  .table-result-container {\n",
       "    max-height: 300px;\n",
       "    overflow: auto;\n",
       "  }\n",
       "  table, th, td {\n",
       "    border: 1px solid black;\n",
       "    border-collapse: collapse;\n",
       "  }\n",
       "  th, td {\n",
       "    padding: 5px;\n",
       "  }\n",
       "  th {\n",
       "    text-align: left;\n",
       "  }\n",
       "</style><div class='table-result-container'><table class='table-result'><thead style='background-color: white'><tr><th>distinct_call_type_count</th></tr></thead><tbody><tr><td>32</td></tr></tbody></table></div>"
      ]
     },
     "metadata": {
      "application/vnd.databricks.v1+output": {
       "addedWidgets": {},
       "aggData": [],
       "aggError": "",
       "aggOverflow": false,
       "aggSchema": [],
       "aggSeriesLimitReached": false,
       "aggType": "",
       "arguments": {},
       "columnCustomDisplayInfos": {},
       "data": [
        [
         32
        ]
       ],
       "datasetInfos": [],
       "dbfsResultPath": null,
       "isJsonSchema": true,
       "metadata": {},
       "overflow": false,
       "plotOptions": {
        "customPlotOptions": {},
        "displayType": "table",
        "pivotAggregation": null,
        "pivotColumns": null,
        "xColumns": null,
        "yColumns": null
       },
       "removedWidgets": [],
       "schema": [
        {
         "metadata": "{}",
         "name": "distinct_call_type_count",
         "type": "\"long\""
        }
       ],
       "type": "table"
      }
     },
     "output_type": "display_data"
    }
   ],
   "source": [
    "# SQL Approach\n",
    "\n",
    "fire_df.createOrReplaceTempView(\"fire_service_calls_view\")\n",
    "q1_sql_df = spark.sql(\"\"\"\n",
    "        select count(distinct CallType) as distinct_call_type_count\n",
    "        from fire_service_calls_view\n",
    "        where CallType is not null\n",
    "        \"\"\")\n",
    "display(q1_sql_df)"
   ]
  },
  {
   "cell_type": "code",
   "execution_count": 0,
   "metadata": {
    "application/vnd.databricks.v1+cell": {
     "cellMetadata": {
      "byteLimit": 2048000,
      "rowLimit": 10000
     },
     "inputWidgets": {},
     "nuid": "8ae7c498-3dab-4468-9fb8-f2ede49ce5c6",
     "showTitle": false,
     "title": ""
    }
   },
   "outputs": [
    {
     "output_type": "stream",
     "name": "stdout",
     "output_type": "stream",
     "text": [
      "32\n"
     ]
    }
   ],
   "source": [
    "# Transformation method : where, select, distinct are chanied together\n",
    "q1_df = fire_df.where(\"CallType is not null\") \\\n",
    "            .select(\"CallType\") \\\n",
    "            .distinct()\n",
    "print(q1_df.count())"
   ]
  },
  {
   "cell_type": "code",
   "execution_count": 0,
   "metadata": {
    "application/vnd.databricks.v1+cell": {
     "cellMetadata": {
      "byteLimit": 2048000,
      "rowLimit": 10000
     },
     "inputWidgets": {},
     "nuid": "786f24c8-5e30-478b-88e8-2a0e559a7c10",
     "showTitle": false,
     "title": ""
    }
   },
   "outputs": [
    {
     "output_type": "stream",
     "name": "stdout",
     "output_type": "stream",
     "text": [
      "32\n"
     ]
    }
   ],
   "source": [
    "# Transformation method : where, select, distinct, so they are returning differnt DF\n",
    "q1_df1 = fire_df.where(\"CallType is not null\")\n",
    "q1_df2 = q1_df1.select(\"CallType\")\n",
    "q1_df3 = q1_df2.distinct()\n",
    "print(q1_df3.count())\n",
    "\n",
    "# Count as a action method : Actions are the DF methods that kicks off a spark job execution and return to then spark driver (return a result)"
   ]
  },
  {
   "cell_type": "markdown",
   "metadata": {
    "application/vnd.databricks.v1+cell": {
     "cellMetadata": {},
     "inputWidgets": {},
     "nuid": "23b72da2-4b26-4746-b5b1-bccee8600dc7",
     "showTitle": false,
     "title": ""
    }
   },
   "source": [
    "#### Q2. What were distinct types of calls made to the Fire Department?\n",
    "```\n",
    "select distinct CallType as distinct_call_types\n",
    "from fire_service_calls_tbl\n",
    "where CallType is not null\n",
    "```"
   ]
  },
  {
   "cell_type": "code",
   "execution_count": 0,
   "metadata": {
    "application/vnd.databricks.v1+cell": {
     "cellMetadata": {
      "byteLimit": 2048000,
      "rowLimit": 10000
     },
     "inputWidgets": {},
     "nuid": "93b3e241-82f2-47df-b542-ca46207687ca",
     "showTitle": false,
     "title": ""
    }
   },
   "outputs": [
    {
     "output_type": "stream",
     "name": "stdout",
     "output_type": "stream",
     "text": [
      "+--------------------+\n|  distinct_call_type|\n+--------------------+\n|Elevator / Escala...|\n|  Aircraft Emergency|\n|              Alarms|\n|Odor (Strange / U...|\n|Citizen Assist / ...|\n|              HazMat|\n|           Oil Spill|\n|        Vehicle Fire|\n|  Suspicious Package|\n|               Other|\n|        Outside Fire|\n|       Assist Police|\n|Gas Leak (Natural...|\n|        Water Rescue|\n|   Electrical Hazard|\n|      Structure Fire|\n|Industrial Accidents|\n|    Medical Incident|\n|          Fuel Spill|\n|Smoke Investigati...|\n+--------------------+\nonly showing top 20 rows\n\n"
     ]
    }
   ],
   "source": [
    "q2_df = fire_df.where(\"CallType is not null\") \\\n",
    "            .select(expr(\"CallType as distinct_call_type\")) \\\n",
    "            .distinct()\n",
    "q2_df.show()"
   ]
  },
  {
   "cell_type": "markdown",
   "metadata": {
    "application/vnd.databricks.v1+cell": {
     "cellMetadata": {},
     "inputWidgets": {},
     "nuid": "5be767a5-5095-44ef-83ff-6bf12f148439",
     "showTitle": false,
     "title": ""
    }
   },
   "source": [
    "#### Q3. Find out all response for delayed times greater than 5 mins?\n",
    "```\n",
    "select CallNumber, Delay\n",
    "from fire_service_calls_tbl\n",
    "where Delay > 5\n",
    "```"
   ]
  },
  {
   "cell_type": "code",
   "execution_count": 0,
   "metadata": {
    "application/vnd.databricks.v1+cell": {
     "cellMetadata": {
      "byteLimit": 2048000,
      "rowLimit": 10000
     },
     "inputWidgets": {},
     "nuid": "b8d5b93a-1ab0-4773-99ad-233541535f28",
     "showTitle": false,
     "title": ""
    }
   },
   "outputs": [
    {
     "output_type": "stream",
     "name": "stdout",
     "output_type": "stream",
     "text": [
      "+----------+-----+\n|CallNumber|Delay|\n+----------+-----+\n|  20110014| 5.23|\n|  20110017| 6.93|\n|  20110019| 6.12|\n|  20110039| 7.85|\n|  20110045|77.33|\n+----------+-----+\n\n"
     ]
    }
   ],
   "source": [
    "fire_df.where(\"Delay > 5\") \\\n",
    "            .select(\"CallNumber\", \"Delay\") \\\n",
    "            .limit(5) \\\n",
    "            .show()\n",
    "\n",
    "# Chained the action method also, you cannot chain anything now because it doesn't return DF\n",
    "# so it is not reccomended, better to use it in new line"
   ]
  },
  {
   "cell_type": "markdown",
   "metadata": {
    "application/vnd.databricks.v1+cell": {
     "cellMetadata": {},
     "inputWidgets": {},
     "nuid": "66dc05d7-4dbd-496b-a1c7-fdbab3ccc93f",
     "showTitle": false,
     "title": ""
    }
   },
   "source": [
    "#### Q4. What were the most common call types?\n",
    "```\n",
    "select CallType, count(*) as count\n",
    "from fire_service_calls_tbl\n",
    "where CallType is not null\n",
    "group by CallType\n",
    "order by count desc\n",
    "```"
   ]
  },
  {
   "cell_type": "code",
   "execution_count": 0,
   "metadata": {
    "application/vnd.databricks.v1+cell": {
     "cellMetadata": {
      "byteLimit": 2048000,
      "rowLimit": 10000
     },
     "inputWidgets": {},
     "nuid": "83cde5bc-8c39-4ad3-9244-c3a3ab0f3e59",
     "showTitle": false,
     "title": ""
    }
   },
   "outputs": [
    {
     "output_type": "stream",
     "name": "stdout",
     "output_type": "stream",
     "text": [
      "+--------------------+-------+\n|            CallType|  count|\n+--------------------+-------+\n|    Medical Incident|2843475|\n|      Structure Fire| 578998|\n|              Alarms| 483518|\n|   Traffic Collision| 175507|\n|Citizen Assist / ...|  65360|\n+--------------------+-------+\n\n"
     ]
    }
   ],
   "source": [
    "fire_df.select(\"CallType\") \\\n",
    "      .where(\"CallType is not null\") \\\n",
    "      .groupBy(\"CallType\") \\\n",
    "      .count() \\\n",
    "      .orderBy(\"count\", ascending=False) \\\n",
    "      .limit(5) \\\n",
    "      .show()\n",
    "\n",
    "# earlier we saw that count is a action method and and not returning a DF, but here it is working fine because of groupBy\n",
    "# groupBy return a GroupedData Object not DF\n",
    "# Here count method is called from Grouped data object and returning a DF and is a transformation in grouped data+\n",
    "# count before groupBy → Action and after a Tranformation"
   ]
  },
  {
   "cell_type": "markdown",
   "metadata": {
    "application/vnd.databricks.v1+cell": {
     "cellMetadata": {},
     "inputWidgets": {},
     "nuid": "7d910523-bbbe-434a-b3c6-51013830bacd",
     "showTitle": false,
     "title": ""
    }
   },
   "source": [
    "#### Q5. What zip codes accounted for most common calls?\n",
    "```\n",
    "select CallType, ZipCode, count(*) as count\n",
    "from fire_service_calls_tbl\n",
    "where CallType is not null\n",
    "group by CallType, Zipcode\n",
    "order by count desc\n",
    "```"
   ]
  },
  {
   "cell_type": "code",
   "execution_count": 0,
   "metadata": {
    "application/vnd.databricks.v1+cell": {
     "cellMetadata": {
      "byteLimit": 2048000,
      "rowLimit": 10000
     },
     "inputWidgets": {},
     "nuid": "b2e6c50f-e0ff-4242-a444-7851258c9254",
     "showTitle": false,
     "title": ""
    }
   },
   "outputs": [
    {
     "output_type": "stream",
     "name": "stdout",
     "output_type": "stream",
     "text": [
      "+----------------+-------+------+\n|        CallType|ZipCode| count|\n+----------------+-------+------+\n|Medical Incident|  94102|401457|\n|Medical Incident|  94103|370215|\n|Medical Incident|  94110|249279|\n|Medical Incident|  94109|238087|\n|Medical Incident|  94124|147564|\n+----------------+-------+------+\n\n"
     ]
    }
   ],
   "source": [
    "fire_df.select(\"CallType\", \"ZipCode\") \\\n",
    "        .where(\"CallType is not null\") \\\n",
    "        .groupBy(\"CallType\", \"ZipCode\") \\\n",
    "        .count() \\\n",
    "        .orderBy(\"count\", ascending=False) \\\n",
    "        .limit(5) \\\n",
    "        .show()"
   ]
  },
  {
   "cell_type": "markdown",
   "metadata": {
    "application/vnd.databricks.v1+cell": {
     "cellMetadata": {},
     "inputWidgets": {},
     "nuid": "fae092ac-c07c-4ad0-b466-1cf2cf128955",
     "showTitle": false,
     "title": ""
    }
   },
   "source": [
    "#### Q6. What San Francisco neighborhoods are in the zip codes 94102 and 94103\n",
    "```\n",
    "select distinct Neighborhood, Zipcode\n",
    "from fire_service_calls_tbl\n",
    "where Zipcode== 94102 or Zipcode == 94103\n",
    "```"
   ]
  },
  {
   "cell_type": "code",
   "execution_count": 0,
   "metadata": {
    "application/vnd.databricks.v1+cell": {
     "cellMetadata": {
      "byteLimit": 2048000,
      "rowLimit": 10000
     },
     "inputWidgets": {},
     "nuid": "eee93405-af8a-4565-ab4f-4a985edf0512",
     "showTitle": false,
     "title": ""
    }
   },
   "outputs": [
    {
     "output_type": "stream",
     "name": "stdout",
     "output_type": "stream",
     "text": [
      "+----------------+-------+\n|    Neighborhood|Zipcode|\n+----------------+-------+\n|Western Addition|  94102|\n|      Tenderloin|  94102|\n| South of Market|  94103|\n|      Tenderloin|  94103|\n|         Mission|  94103|\n+----------------+-------+\n\n"
     ]
    }
   ],
   "source": [
    "fire_df.select(\"Neighborhood\", \"Zipcode\") \\\n",
    "        .where(\"Zipcode == 94102 or Zipcode == 94103\") \\\n",
    "        .distinct() \\\n",
    "        .limit(5) \\\n",
    "        .show()"
   ]
  },
  {
   "cell_type": "markdown",
   "metadata": {
    "application/vnd.databricks.v1+cell": {
     "cellMetadata": {},
     "inputWidgets": {},
     "nuid": "ec1c3a04-4b83-4a86-98c8-68e7b331c354",
     "showTitle": false,
     "title": ""
    }
   },
   "source": [
    "#### Q7. What was the sum of all calls, average, min and max of the response times for calls?\n",
    "```\n",
    "select sum(NumAlarms), avg(Delay), min(Delay), max(Delay)\n",
    "from fire_service_calls_tbl\n",
    "```"
   ]
  },
  {
   "cell_type": "code",
   "execution_count": 0,
   "metadata": {
    "application/vnd.databricks.v1+cell": {
     "cellMetadata": {
      "byteLimit": 2048000,
      "rowLimit": 10000
     },
     "inputWidgets": {},
     "nuid": "0578a3c7-356c-48b1-8f0a-23d5518fb53b",
     "showTitle": false,
     "title": ""
    }
   },
   "outputs": [
    {
     "output_type": "stream",
     "name": "stdout",
     "output_type": "stream",
     "text": [
      "+--------------+------------------+----------+----------+\n|sum(NumAlarms)|        avg(Delay)|min(Delay)|max(Delay)|\n+--------------+------------------+----------+----------+\n|       4403441|3.9021698123113886|      0.02|   1879.62|\n+--------------+------------------+----------+----------+\n\n"
     ]
    }
   ],
   "source": [
    "fire_df.select(expr(\"sum(NumAlarms)\"), expr(\"avg(Delay)\") , expr(\"min(Delay)\"), expr(\"max(Delay)\")).show()"
   ]
  },
  {
   "cell_type": "markdown",
   "metadata": {
    "application/vnd.databricks.v1+cell": {
     "cellMetadata": {},
     "inputWidgets": {},
     "nuid": "c7ddd6f2-d813-4fae-900d-e18268990c03",
     "showTitle": false,
     "title": ""
    }
   },
   "source": [
    "#### Q8. How many distinct years of data is in the CSV file?\n",
    "```\n",
    "select distinct year(to_timestamp(CallDate, \"MM/dd/yyyy\")) as year_num\n",
    "from fire_service_calls_tbl\n",
    "order by year_num\n",
    "```"
   ]
  },
  {
   "cell_type": "code",
   "execution_count": 0,
   "metadata": {
    "application/vnd.databricks.v1+cell": {
     "cellMetadata": {
      "byteLimit": 2048000,
      "rowLimit": 10000
     },
     "inputWidgets": {},
     "nuid": "e33d5d07-1ce9-4b6d-a6d2-3e2ccbc08fd8",
     "showTitle": false,
     "title": ""
    }
   },
   "outputs": [
    {
     "output_type": "stream",
     "name": "stdout",
     "output_type": "stream",
     "text": [
      "+--------+\n|year_num|\n+--------+\n|    2000|\n|    2001|\n|    2002|\n|    2003|\n|    2004|\n+--------+\n\n"
     ]
    }
   ],
   "source": [
    "fire_df.select(expr(\"year(to_timestamp(CallDate, 'MM/dd/yyyy')) as year_num\")) \\\n",
    "    .distinct() \\\n",
    "    .orderBy(\"year_num\") \\\n",
    "    .limit(5) \\\n",
    "    .show()"
   ]
  },
  {
   "cell_type": "markdown",
   "metadata": {
    "application/vnd.databricks.v1+cell": {
     "cellMetadata": {},
     "inputWidgets": {},
     "nuid": "6513c936-5d6b-4859-a4af-5e7bc5618d68",
     "showTitle": false,
     "title": ""
    }
   },
   "source": [
    "#### Q9. What week of the year in 2018 had the most fire calls?\n",
    "```\n",
    "select weekofyear(to_timestamp(CallDate, \"MM/dd/yyyy\")) week_year, count(*) as count\n",
    "from fire_service_calls_tbl \n",
    "where year(to_timestamp(CallDate, \"MM/dd/yyyy\")) == 2018\n",
    "group by week_year\n",
    "order by count desc\n",
    "```"
   ]
  },
  {
   "cell_type": "code",
   "execution_count": 0,
   "metadata": {
    "application/vnd.databricks.v1+cell": {
     "cellMetadata": {
      "byteLimit": 2048000,
      "rowLimit": 10000
     },
     "inputWidgets": {},
     "nuid": "ae576091-0132-4ccc-a461-2b283bbdbfbe",
     "showTitle": false,
     "title": ""
    }
   },
   "outputs": [
    {
     "output_type": "stream",
     "name": "stdout",
     "output_type": "stream",
     "text": [
      "+---------+-----+\n|week_year|count|\n+---------+-----+\n|        1| 6401|\n|       25| 6163|\n|       13| 6103|\n|       22| 6060|\n|       44| 6048|\n+---------+-----+\n\n"
     ]
    }
   ],
   "source": [
    "fire_df.select(expr(\"weekofyear(to_timestamp(CallDate, 'MM/dd/yyyy')) as week_year\")) \\\n",
    "        .where(\"year(to_timestamp(CallDate, 'MM/dd/yyyy')) == 2018\") \\\n",
    "        .groupBy(\"week_year\") \\\n",
    "        .count() \\\n",
    "        .orderBy(\"count\", ascending=False) \\\n",
    "        .limit(5) \\\n",
    "        .show()"
   ]
  },
  {
   "cell_type": "markdown",
   "metadata": {
    "application/vnd.databricks.v1+cell": {
     "cellMetadata": {},
     "inputWidgets": {},
     "nuid": "35c0a7f2-4570-4f04-be7a-e20233c1e42e",
     "showTitle": false,
     "title": ""
    }
   },
   "source": [
    "#### Q10. What neighborhoods in San Francisco had the worst response time in 2018?\n",
    "```\n",
    "select Neighborhood, Delay\n",
    "from fire_service_calls_tbl \n",
    "where year(to_timestamp(CallDate, \"MM/dd/yyyy\")) == 2018\n",
    "```"
   ]
  },
  {
   "cell_type": "code",
   "execution_count": 0,
   "metadata": {
    "application/vnd.databricks.v1+cell": {
     "cellMetadata": {
      "byteLimit": 2048000,
      "rowLimit": 10000
     },
     "inputWidgets": {},
     "nuid": "90a51043-e663-484f-ac1f-c4acd629dd5b",
     "showTitle": false,
     "title": ""
    }
   },
   "outputs": [
    {
     "output_type": "stream",
     "name": "stdout",
     "output_type": "stream",
     "text": [
      "+----------------+-----+\n|    Neighborhood|Delay|\n+----------------+-----+\n|Presidio Heights| 2.47|\n|Presidio Heights| 2.88|\n|Presidio Heights| 2.12|\n|Presidio Heights| 4.25|\n|Presidio Heights| 2.82|\n+----------------+-----+\n\n"
     ]
    }
   ],
   "source": [
    "fire_df.select(\"Neighborhood\", \"Delay\") \\\n",
    "        .where(\"year(to_timestamp(CallDate, 'MM/dd/yyyy')) == 2018\") \\\n",
    "        .limit(5) \\\n",
    "        .show()"
   ]
  }
 ],
 "metadata": {
  "application/vnd.databricks.v1+notebook": {
   "dashboards": [],
   "environmentMetadata": null,
   "language": "python",
   "notebookMetadata": {
    "pythonIndentUnit": 4
   },
   "notebookName": "05-working-with-dataframes",
   "widgets": {}
  }
 },
 "nbformat": 4,
 "nbformat_minor": 0
}
